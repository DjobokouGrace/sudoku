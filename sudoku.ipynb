{
 "cells": [
  {
   "cell_type": "code",
   "execution_count": 50,
   "metadata": {
    "collapsed": true
   },
   "outputs": [
    {
     "name": "stdout",
     "output_type": "stream",
     "text": [
      "[[6, 5, 7, 9, 4, 4, 6, 4, 5],\n",
      " [3, 1, 3, 7, 4, 1, 3, 1, 1],\n",
      " [9, 3, 8, 4, 8, 6, 4, 3, 4],\n",
      " [2, 7, 4, 2, 2, 1, 8, 3, 8],\n",
      " [1, 2, 2, 4, 8, 5, 3, 2, 9],\n",
      " [1, 9, 1, 3, 9, 8, 6, 8, 5],\n",
      " [1, 3, 9, 2, 6, 5, 7, 5, 6],\n",
      " [1, 4, 8, 6, 2, 7, 9, 5, 3],\n",
      " [1, 4, 9, 7, 5, 3, 2, 7, 6]]\n"
     ]
    }
   ],
   "source": [
    "import random\n",
    "import pprint\n",
    "\n",
    "basic_sequence = [1, 2, 3, 4, 5, 6, 7, 8, 9]\n",
    "def generate_grid(size=9):\n",
    "    grid = [[0] * 9 for _ in range(size)]\n",
    "\n",
    "\n",
    "    # Check line\n",
    "    for i in range(size):\n",
    "        for j in range(size):\n",
    "            list_sequence = basic_sequence.copy()\n",
    "            col_sequence = basic_sequence.copy()\n",
    "            for k in range(size):\n",
    "                if grid[i][k] != 0:\n",
    "                    try:\n",
    "                        list_sequence.remove(grid[i][k])\n",
    "                    except ValueError:\n",
    "                        pass\n",
    "\n",
    "            for k in range(size):\n",
    "                if grid[k][j] != 0:\n",
    "                    try:\n",
    "                        col_sequence.remove(grid[k][j])\n",
    "                    except ValueError:\n",
    "                        pass\n",
    "            #print(list_sequence, col_sequence)\n",
    "            intersection = list(set(list_sequence + col_sequence))\n",
    "            try:\n",
    "                grid[i][j] = random.choice(intersection)\n",
    "            except IndexError:\n",
    "                #print(\"sequence\", sequence)\n",
    "                continue\n",
    "\n",
    "    return grid\n",
    "\n",
    "#print(generate_grid())\n",
    "pprint.pprint(generate_grid())\n",
    "\n"
   ]
  }
 ],
 "metadata": {
  "kernelspec": {
   "display_name": "Python 3",
   "language": "python",
   "name": "python3"
  },
  "language_info": {
   "codemirror_mode": {
    "name": "ipython",
    "version": 2
   },
   "file_extension": ".py",
   "mimetype": "text/x-python",
   "name": "python",
   "nbconvert_exporter": "python",
   "pygments_lexer": "ipython2",
   "version": "2.7.6"
  }
 },
 "nbformat": 4,
 "nbformat_minor": 0
}
