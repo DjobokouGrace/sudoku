{
 "cells": [
  {
   "cell_type": "code",
   "execution_count": 5,
   "metadata": {
    "collapsed": true
   },
   "outputs": [
    {
     "name": "stdout",
     "output_type": "stream",
     "text": [
      "[[1. 2. 3. 4. 5. 6. 7. 8. 9.]\n",
      " [4. 5. 6. 7. 8. 9. 1. 2. 3.]\n",
      " [7. 8. 9. 1. 2. 3. 4. 5. 6.]\n",
      " [2. 1. 4. 3. 6. 5. 8. 9. 7.]\n",
      " [3. 6. 5. 8. 9. 7. 2. 1. 4.]\n",
      " [8. 9. 7. 2. 1. 4. 3. 6. 5.]\n",
      " [5. 3. 1. 6. 4. 2. 9. 7. 8.]\n",
      " [6. 4. 2. 9. 7. 8. 5. 3. 1.]\n",
      " [9. 7. 8. 5. 3. 1. 6. 4. 2.]]\n",
      "[[1. 0. 0. 4. 5. 0. 0. 8. 0.]\n",
      " [0. 0. 0. 7. 8. 0. 0. 0. 0.]\n",
      " [7. 8. 9. 0. 0. 0. 0. 0. 0.]\n",
      " [2. 0. 4. 3. 6. 0. 0. 0. 0.]\n",
      " [0. 0. 0. 0. 0. 0. 0. 0. 4.]\n",
      " [0. 0. 0. 0. 0. 0. 0. 0. 0.]\n",
      " [0. 0. 1. 0. 0. 2. 0. 7. 0.]\n",
      " [0. 0. 2. 0. 0. 8. 0. 0. 1.]\n",
      " [0. 0. 0. 0. 0. 0. 0. 0. 2.]]\n"
     ]
    }
   ],
   "source": [
    "import numpy as np\n",
    "import random\n",
    "\n",
    "# Initialiser la grille du sudoku à 9x9\n",
    "grille = np.zeros((9,9))\n",
    "\n",
    "def possible(y,x,n):\n",
    "    # Vérifier si le nombre n peut être placé à la position (y,x)\n",
    "    global grille\n",
    "    for i in range(0,9):\n",
    "        if grille[y][i] == n:\n",
    "            return False\n",
    "    for i in range(0,9):\n",
    "        if grille[i][x] == n:\n",
    "            return False\n",
    "    x0 = (x//3)*3\n",
    "    y0 = (y//3)*3\n",
    "    for i in range(0,3):\n",
    "        for j in range(0,3):\n",
    "            if grille[y0+i][x0+j] == n:\n",
    "                return False\n",
    "    return True\n",
    "\n",
    "def remplir_grille():\n",
    "    # Remplir la grille du sudoku de façon aléatoire\n",
    "    global grille\n",
    "    for y in range(9):\n",
    "        for x in range(9):\n",
    "            if grille[y][x] == 0:  # Si la case est vide\n",
    "                for n in range(1,10):  # Pour chaque nombre de 1 à 9\n",
    "                    if possible(y,x,n):  # Si le nombre peut être placé\n",
    "                        grille[y][x] = n  # Place le nombre\n",
    "                        remplir_grille()  # Continue à remplir la grille\n",
    "                        if np.count_nonzero(grille) == 81:\n",
    "                            return\n",
    "                        grille[y][x] = 0  # Si le nombre ne peut pas être placé, remets la case à 0\n",
    "                return\n",
    "    print(grille)\n",
    "\n",
    "remplir_grille()\n",
    "\n",
    "def enlever_cases():\n",
    "    # Enlever des nombres de la grille de manière aléatoire\n",
    "    global grille\n",
    "    for i in range(60):  # Nous allons enlever 60 cases\n",
    "        while True:\n",
    "            x, y = random.randint(0,8), random.randint(0,8)\n",
    "            if grille[y][x] != 0:\n",
    "                grille[y][x] = 0\n",
    "                break\n",
    "\n",
    "enlever_cases()\n",
    "print(grille)\n"
   ]
  }
 ],
 "metadata": {
  "kernelspec": {
   "display_name": "Python 3",
   "language": "python",
   "name": "python3"
  },
  "language_info": {
   "codemirror_mode": {
    "name": "ipython",
    "version": 2
   },
   "file_extension": ".py",
   "mimetype": "text/x-python",
   "name": "python",
   "nbconvert_exporter": "python",
   "pygments_lexer": "ipython2",
   "version": "2.7.6"
  }
 },
 "nbformat": 4,
 "nbformat_minor": 0
}
